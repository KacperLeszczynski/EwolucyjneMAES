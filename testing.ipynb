{
 "cells": [
  {
   "cell_type": "code",
   "execution_count": 64,
   "id": "6b13807a",
   "metadata": {},
   "outputs": [
    {
     "name": "stdout",
     "output_type": "stream",
     "text": [
      "Collecting seaborn\n",
      "  Using cached seaborn-0.13.2-py3-none-any.whl.metadata (5.4 kB)\n",
      "Requirement already satisfied: numpy!=1.24.0,>=1.20 in c:\\users\\kacpe\\onedrive\\pulpit\\uczelnia\\magisterskie\\ewolucyjne\\.venv\\lib\\site-packages (from seaborn) (2.2.5)\n",
      "Requirement already satisfied: pandas>=1.2 in c:\\users\\kacpe\\onedrive\\pulpit\\uczelnia\\magisterskie\\ewolucyjne\\.venv\\lib\\site-packages (from seaborn) (2.2.3)\n",
      "Requirement already satisfied: matplotlib!=3.6.1,>=3.4 in c:\\users\\kacpe\\onedrive\\pulpit\\uczelnia\\magisterskie\\ewolucyjne\\.venv\\lib\\site-packages (from seaborn) (3.10.3)\n",
      "Requirement already satisfied: contourpy>=1.0.1 in c:\\users\\kacpe\\onedrive\\pulpit\\uczelnia\\magisterskie\\ewolucyjne\\.venv\\lib\\site-packages (from matplotlib!=3.6.1,>=3.4->seaborn) (1.3.2)\n",
      "Requirement already satisfied: cycler>=0.10 in c:\\users\\kacpe\\onedrive\\pulpit\\uczelnia\\magisterskie\\ewolucyjne\\.venv\\lib\\site-packages (from matplotlib!=3.6.1,>=3.4->seaborn) (0.12.1)\n",
      "Requirement already satisfied: fonttools>=4.22.0 in c:\\users\\kacpe\\onedrive\\pulpit\\uczelnia\\magisterskie\\ewolucyjne\\.venv\\lib\\site-packages (from matplotlib!=3.6.1,>=3.4->seaborn) (4.58.0)\n",
      "Requirement already satisfied: kiwisolver>=1.3.1 in c:\\users\\kacpe\\onedrive\\pulpit\\uczelnia\\magisterskie\\ewolucyjne\\.venv\\lib\\site-packages (from matplotlib!=3.6.1,>=3.4->seaborn) (1.4.8)\n",
      "Requirement already satisfied: packaging>=20.0 in c:\\users\\kacpe\\onedrive\\pulpit\\uczelnia\\magisterskie\\ewolucyjne\\.venv\\lib\\site-packages (from matplotlib!=3.6.1,>=3.4->seaborn) (25.0)\n",
      "Requirement already satisfied: pillow>=8 in c:\\users\\kacpe\\onedrive\\pulpit\\uczelnia\\magisterskie\\ewolucyjne\\.venv\\lib\\site-packages (from matplotlib!=3.6.1,>=3.4->seaborn) (11.2.1)\n",
      "Requirement already satisfied: pyparsing>=2.3.1 in c:\\users\\kacpe\\onedrive\\pulpit\\uczelnia\\magisterskie\\ewolucyjne\\.venv\\lib\\site-packages (from matplotlib!=3.6.1,>=3.4->seaborn) (3.2.3)\n",
      "Requirement already satisfied: python-dateutil>=2.7 in c:\\users\\kacpe\\onedrive\\pulpit\\uczelnia\\magisterskie\\ewolucyjne\\.venv\\lib\\site-packages (from matplotlib!=3.6.1,>=3.4->seaborn) (2.9.0.post0)\n",
      "Requirement already satisfied: pytz>=2020.1 in c:\\users\\kacpe\\onedrive\\pulpit\\uczelnia\\magisterskie\\ewolucyjne\\.venv\\lib\\site-packages (from pandas>=1.2->seaborn) (2025.2)\n",
      "Requirement already satisfied: tzdata>=2022.7 in c:\\users\\kacpe\\onedrive\\pulpit\\uczelnia\\magisterskie\\ewolucyjne\\.venv\\lib\\site-packages (from pandas>=1.2->seaborn) (2025.2)\n",
      "Requirement already satisfied: six>=1.5 in c:\\users\\kacpe\\onedrive\\pulpit\\uczelnia\\magisterskie\\ewolucyjne\\.venv\\lib\\site-packages (from python-dateutil>=2.7->matplotlib!=3.6.1,>=3.4->seaborn) (1.17.0)\n",
      "Using cached seaborn-0.13.2-py3-none-any.whl (294 kB)\n",
      "Installing collected packages: seaborn\n",
      "Successfully installed seaborn-0.13.2\n"
     ]
    }
   ],
   "source": [
    "!pip install seaborn"
   ]
  },
  {
   "cell_type": "code",
   "execution_count": 1,
   "id": "c1d6cd81",
   "metadata": {},
   "outputs": [],
   "source": [
    "import numpy as np \n",
    "import pandas as pd\n",
    "from pathlib import Path\n",
    "import re, glob\n",
    "import matplotlib.pyplot as plt\n",
    "import seaborn as sns\n",
    "\n"
   ]
  },
  {
   "cell_type": "code",
   "execution_count": 5,
   "id": "d62d5c90",
   "metadata": {},
   "outputs": [],
   "source": [
    "ipop = np.load(\"results_bbob_d10_seed0.npz\")"
   ]
  },
  {
   "cell_type": "code",
   "execution_count": 6,
   "id": "2bfbdb0f",
   "metadata": {},
   "outputs": [],
   "source": [
    "df = pd.DataFrame({\n",
    "    \"func_id\": ipop.files,\n",
    "    \"ipop_best\": [ipop[k] for k in ipop.files],\n",
    "})"
   ]
  },
  {
   "cell_type": "code",
   "execution_count": 12,
   "id": "dc74c369",
   "metadata": {},
   "outputs": [
    {
     "data": {
      "text/html": [
       "<div>\n",
       "<style scoped>\n",
       "    .dataframe tbody tr th:only-of-type {\n",
       "        vertical-align: middle;\n",
       "    }\n",
       "\n",
       "    .dataframe tbody tr th {\n",
       "        vertical-align: top;\n",
       "    }\n",
       "\n",
       "    .dataframe thead th {\n",
       "        text-align: right;\n",
       "    }\n",
       "</style>\n",
       "<table border=\"1\" class=\"dataframe\">\n",
       "  <thead>\n",
       "    <tr style=\"text-align: right;\">\n",
       "      <th></th>\n",
       "      <th>func_id</th>\n",
       "      <th>ipop_best</th>\n",
       "    </tr>\n",
       "  </thead>\n",
       "  <tbody>\n",
       "    <tr>\n",
       "      <th>0</th>\n",
       "      <td>bbob_f001_i01_d10</td>\n",
       "      <td>79.48000228201816</td>\n",
       "    </tr>\n",
       "    <tr>\n",
       "      <th>1</th>\n",
       "      <td>bbob_f001_i02_d10</td>\n",
       "      <td>394.4800179518461</td>\n",
       "    </tr>\n",
       "    <tr>\n",
       "      <th>2</th>\n",
       "      <td>bbob_f001_i03_d10</td>\n",
       "      <td>-247.10994077724075</td>\n",
       "    </tr>\n",
       "    <tr>\n",
       "      <th>3</th>\n",
       "      <td>bbob_f001_i04_d10</td>\n",
       "      <td>-152.0399869581985</td>\n",
       "    </tr>\n",
       "    <tr>\n",
       "      <th>4</th>\n",
       "      <td>bbob_f001_i05_d10</td>\n",
       "      <td>-25.249992255834595</td>\n",
       "    </tr>\n",
       "  </tbody>\n",
       "</table>\n",
       "</div>"
      ],
      "text/plain": [
       "             func_id            ipop_best\n",
       "0  bbob_f001_i01_d10    79.48000228201816\n",
       "1  bbob_f001_i02_d10    394.4800179518461\n",
       "2  bbob_f001_i03_d10  -247.10994077724075\n",
       "3  bbob_f001_i04_d10   -152.0399869581985\n",
       "4  bbob_f001_i05_d10  -25.249992255834595"
      ]
     },
     "execution_count": 12,
     "metadata": {},
     "output_type": "execute_result"
    }
   ],
   "source": [
    "df.head()"
   ]
  },
  {
   "cell_type": "code",
   "execution_count": 9,
   "id": "848749bc",
   "metadata": {},
   "outputs": [
    {
     "name": "stdout",
     "output_type": "stream",
     "text": [
      "                 ipop_best\n",
      "count                  360\n",
      "unique                 360\n",
      "top     101.39518595381145\n",
      "freq                     1\n"
     ]
    }
   ],
   "source": [
    "# 1) średnia i mediana najlepszych wartości\n",
    "print(df[[\"ipop_best\"]].describe())"
   ]
  },
  {
   "cell_type": "code",
   "execution_count": 11,
   "id": "73be8dc9",
   "metadata": {},
   "outputs": [
    {
     "name": "stdout",
     "output_type": "stream",
     "text": [
      "Sukces IPOP  = 149/360\n"
     ]
    }
   ],
   "source": [
    "# 2) ile funkcji zeszło poniżej progu 1e-8 ?\n",
    "th = 1e-8\n",
    "succ_ipop = (df[\"ipop_best\"] < th).sum()\n",
    "print(f\"Sukces IPOP  = {succ_ipop}/{len(df)}\")\n"
   ]
  },
  {
   "cell_type": "markdown",
   "id": "3c8af666",
   "metadata": {},
   "source": [
    "## Testing"
   ]
  },
  {
   "cell_type": "code",
   "execution_count": 2,
   "id": "9f025075",
   "metadata": {},
   "outputs": [],
   "source": [
    "def _last_delta_f(dat_file: Path) -> float:\n",
    "    \"\"\"Zwraca ostatnią kolumnę Δf z pliku .dat (ostatni wiersz nie-komentarz).\"\"\"\n",
    "    data = np.loadtxt(dat_file, comments='#')\n",
    "    return float(data[-1, 1])     # kol. 0 = FEvals, kol. 1 = Δf\n",
    "\n",
    "def gather_results(root: str | Path) -> pd.DataFrame:\n",
    "    \"\"\"\n",
    "    Zwraca DataFrame z kolumnami:\n",
    "    dim, seed, alg, func_id, delta_f\n",
    "    \"\"\"\n",
    "    rows = []\n",
    "    for dim_dir in Path(root).glob('d*'):\n",
    "        dim = int(dim_dir.name.lstrip('d'))\n",
    "        for seed_dir in dim_dir.glob('seed*-000[12]'):\n",
    "            seed, run = re.match(r'seed(\\d+)-000(\\d)', seed_dir.name).groups()\n",
    "            alg = 'ipop' if run == '1' else 'cma'\n",
    "            for dat in seed_dir.glob('**/IOHprofiler_f*_*.dat'):\n",
    "                func_id = re.search(r'f(\\d{3})', dat.name).group(1)\n",
    "                rows.append(\n",
    "                    dict(dim=dim,\n",
    "                         seed=int(seed),\n",
    "                         alg=alg,\n",
    "                         func_id=f'F{func_id}',\n",
    "                         delta_f=_last_delta_f(dat))\n",
    "                )\n",
    "    return pd.DataFrame(rows)\n",
    "\n",
    "def summary_stats(df: pd.DataFrame) -> pd.DataFrame:\n",
    "    \"\"\"Średnia i odchylenie std Δf dla każdej kombinacji (alg, dim).\"\"\"\n",
    "    return (df.groupby(['alg', 'dim'])['delta_f']\n",
    "              .agg(['mean', 'std', 'median'])\n",
    "              .reset_index())"
   ]
  },
  {
   "cell_type": "code",
   "execution_count": 17,
   "id": "e0c44096",
   "metadata": {},
   "outputs": [],
   "source": [
    "ROOT = \"exdata/bbob_results\""
   ]
  },
  {
   "cell_type": "code",
   "execution_count": 23,
   "id": "a70b4904",
   "metadata": {},
   "outputs": [],
   "source": [
    "df = gather_results(ROOT)"
   ]
  },
  {
   "cell_type": "code",
   "execution_count": 21,
   "id": "249cedbd",
   "metadata": {},
   "outputs": [
    {
     "data": {
      "text/html": [
       "<div>\n",
       "<style scoped>\n",
       "    .dataframe tbody tr th:only-of-type {\n",
       "        vertical-align: middle;\n",
       "    }\n",
       "\n",
       "    .dataframe tbody tr th {\n",
       "        vertical-align: top;\n",
       "    }\n",
       "\n",
       "    .dataframe thead th {\n",
       "        text-align: right;\n",
       "    }\n",
       "</style>\n",
       "<table border=\"1\" class=\"dataframe\">\n",
       "  <thead>\n",
       "    <tr style=\"text-align: right;\">\n",
       "      <th></th>\n",
       "    </tr>\n",
       "  </thead>\n",
       "  <tbody>\n",
       "  </tbody>\n",
       "</table>\n",
       "</div>"
      ],
      "text/plain": [
       "Empty DataFrame\n",
       "Columns: []\n",
       "Index: []"
      ]
     },
     "metadata": {},
     "output_type": "display_data"
    },
    {
     "name": "stdout",
     "output_type": "stream",
     "text": [
      "Liczba wierszy: 0\n"
     ]
    }
   ],
   "source": [
    "display(df.head())\n",
    "print(f\"Liczba wierszy: {len(df)}\")"
   ]
  },
  {
   "cell_type": "code",
   "execution_count": null,
   "id": "a6a27771",
   "metadata": {},
   "outputs": [],
   "source": []
  },
  {
   "cell_type": "markdown",
   "id": "544fef33",
   "metadata": {},
   "source": [
    "## Pobieranie npz"
   ]
  },
  {
   "cell_type": "code",
   "execution_count": 40,
   "id": "694f0ab9",
   "metadata": {},
   "outputs": [],
   "source": [
    "data = np.load(\"npz/cma_bbob_d10_seed0.npz\")"
   ]
  },
  {
   "cell_type": "code",
   "execution_count": 41,
   "id": "1b227ce5",
   "metadata": {},
   "outputs": [
    {
     "name": "stdout",
     "output_type": "stream",
     "text": [
      "['bbob_f001_i01_d10', 'bbob_f001_i02_d10', 'bbob_f001_i03_d10', 'bbob_f001_i04_d10', 'bbob_f001_i05_d10', 'bbob_f001_i71_d10', 'bbob_f001_i72_d10', 'bbob_f001_i73_d10', 'bbob_f001_i74_d10', 'bbob_f001_i75_d10', 'bbob_f001_i76_d10', 'bbob_f001_i77_d10', 'bbob_f001_i78_d10', 'bbob_f001_i79_d10', 'bbob_f001_i80_d10', 'bbob_f002_i01_d10', 'bbob_f002_i02_d10', 'bbob_f002_i03_d10', 'bbob_f002_i04_d10', 'bbob_f002_i05_d10', 'bbob_f002_i71_d10', 'bbob_f002_i72_d10', 'bbob_f002_i73_d10', 'bbob_f002_i74_d10', 'bbob_f002_i75_d10', 'bbob_f002_i76_d10', 'bbob_f002_i77_d10', 'bbob_f002_i78_d10', 'bbob_f002_i79_d10', 'bbob_f002_i80_d10', 'bbob_f003_i01_d10', 'bbob_f003_i02_d10', 'bbob_f003_i03_d10', 'bbob_f003_i04_d10', 'bbob_f003_i05_d10', 'bbob_f003_i71_d10', 'bbob_f003_i72_d10', 'bbob_f003_i73_d10', 'bbob_f003_i74_d10', 'bbob_f003_i75_d10', 'bbob_f003_i76_d10', 'bbob_f003_i77_d10', 'bbob_f003_i78_d10', 'bbob_f003_i79_d10', 'bbob_f003_i80_d10', 'bbob_f004_i01_d10', 'bbob_f004_i02_d10', 'bbob_f004_i03_d10', 'bbob_f004_i04_d10', 'bbob_f004_i05_d10', 'bbob_f004_i71_d10', 'bbob_f004_i72_d10', 'bbob_f004_i73_d10', 'bbob_f004_i74_d10', 'bbob_f004_i75_d10', 'bbob_f004_i76_d10', 'bbob_f004_i77_d10', 'bbob_f004_i78_d10', 'bbob_f004_i79_d10', 'bbob_f004_i80_d10', 'bbob_f005_i01_d10', 'bbob_f005_i02_d10', 'bbob_f005_i03_d10', 'bbob_f005_i04_d10', 'bbob_f005_i05_d10', 'bbob_f005_i71_d10', 'bbob_f005_i72_d10', 'bbob_f005_i73_d10', 'bbob_f005_i74_d10', 'bbob_f005_i75_d10', 'bbob_f005_i76_d10', 'bbob_f005_i77_d10', 'bbob_f005_i78_d10', 'bbob_f005_i79_d10', 'bbob_f005_i80_d10', 'bbob_f006_i01_d10', 'bbob_f006_i02_d10', 'bbob_f006_i03_d10', 'bbob_f006_i04_d10', 'bbob_f006_i05_d10', 'bbob_f006_i71_d10', 'bbob_f006_i72_d10', 'bbob_f006_i73_d10', 'bbob_f006_i74_d10', 'bbob_f006_i75_d10', 'bbob_f006_i76_d10', 'bbob_f006_i77_d10', 'bbob_f006_i78_d10', 'bbob_f006_i79_d10', 'bbob_f006_i80_d10', 'bbob_f007_i01_d10', 'bbob_f007_i02_d10', 'bbob_f007_i03_d10', 'bbob_f007_i04_d10', 'bbob_f007_i05_d10', 'bbob_f007_i71_d10', 'bbob_f007_i72_d10', 'bbob_f007_i73_d10', 'bbob_f007_i74_d10', 'bbob_f007_i75_d10', 'bbob_f007_i76_d10', 'bbob_f007_i77_d10', 'bbob_f007_i78_d10', 'bbob_f007_i79_d10', 'bbob_f007_i80_d10', 'bbob_f008_i01_d10', 'bbob_f008_i02_d10', 'bbob_f008_i03_d10', 'bbob_f008_i04_d10', 'bbob_f008_i05_d10', 'bbob_f008_i71_d10', 'bbob_f008_i72_d10', 'bbob_f008_i73_d10', 'bbob_f008_i74_d10', 'bbob_f008_i75_d10', 'bbob_f008_i76_d10', 'bbob_f008_i77_d10', 'bbob_f008_i78_d10', 'bbob_f008_i79_d10', 'bbob_f008_i80_d10', 'bbob_f009_i01_d10', 'bbob_f009_i02_d10', 'bbob_f009_i03_d10', 'bbob_f009_i04_d10', 'bbob_f009_i05_d10', 'bbob_f009_i71_d10', 'bbob_f009_i72_d10', 'bbob_f009_i73_d10', 'bbob_f009_i74_d10', 'bbob_f009_i75_d10', 'bbob_f009_i76_d10', 'bbob_f009_i77_d10', 'bbob_f009_i78_d10', 'bbob_f009_i79_d10', 'bbob_f009_i80_d10', 'bbob_f010_i01_d10', 'bbob_f010_i02_d10', 'bbob_f010_i03_d10', 'bbob_f010_i04_d10', 'bbob_f010_i05_d10', 'bbob_f010_i71_d10', 'bbob_f010_i72_d10', 'bbob_f010_i73_d10', 'bbob_f010_i74_d10', 'bbob_f010_i75_d10', 'bbob_f010_i76_d10', 'bbob_f010_i77_d10', 'bbob_f010_i78_d10', 'bbob_f010_i79_d10', 'bbob_f010_i80_d10', 'bbob_f011_i01_d10', 'bbob_f011_i02_d10', 'bbob_f011_i03_d10', 'bbob_f011_i04_d10', 'bbob_f011_i05_d10', 'bbob_f011_i71_d10', 'bbob_f011_i72_d10', 'bbob_f011_i73_d10', 'bbob_f011_i74_d10', 'bbob_f011_i75_d10', 'bbob_f011_i76_d10', 'bbob_f011_i77_d10', 'bbob_f011_i78_d10', 'bbob_f011_i79_d10', 'bbob_f011_i80_d10', 'bbob_f012_i01_d10', 'bbob_f012_i02_d10', 'bbob_f012_i03_d10', 'bbob_f012_i04_d10', 'bbob_f012_i05_d10', 'bbob_f012_i71_d10', 'bbob_f012_i72_d10', 'bbob_f012_i73_d10', 'bbob_f012_i74_d10', 'bbob_f012_i75_d10', 'bbob_f012_i76_d10', 'bbob_f012_i77_d10', 'bbob_f012_i78_d10', 'bbob_f012_i79_d10', 'bbob_f012_i80_d10', 'bbob_f013_i01_d10', 'bbob_f013_i02_d10', 'bbob_f013_i03_d10', 'bbob_f013_i04_d10', 'bbob_f013_i05_d10', 'bbob_f013_i71_d10', 'bbob_f013_i72_d10', 'bbob_f013_i73_d10', 'bbob_f013_i74_d10', 'bbob_f013_i75_d10', 'bbob_f013_i76_d10', 'bbob_f013_i77_d10', 'bbob_f013_i78_d10', 'bbob_f013_i79_d10', 'bbob_f013_i80_d10', 'bbob_f014_i01_d10', 'bbob_f014_i02_d10', 'bbob_f014_i03_d10', 'bbob_f014_i04_d10', 'bbob_f014_i05_d10', 'bbob_f014_i71_d10', 'bbob_f014_i72_d10', 'bbob_f014_i73_d10', 'bbob_f014_i74_d10', 'bbob_f014_i75_d10', 'bbob_f014_i76_d10', 'bbob_f014_i77_d10', 'bbob_f014_i78_d10', 'bbob_f014_i79_d10', 'bbob_f014_i80_d10', 'bbob_f015_i01_d10', 'bbob_f015_i02_d10', 'bbob_f015_i03_d10', 'bbob_f015_i04_d10', 'bbob_f015_i05_d10', 'bbob_f015_i71_d10', 'bbob_f015_i72_d10', 'bbob_f015_i73_d10', 'bbob_f015_i74_d10', 'bbob_f015_i75_d10', 'bbob_f015_i76_d10', 'bbob_f015_i77_d10', 'bbob_f015_i78_d10', 'bbob_f015_i79_d10', 'bbob_f015_i80_d10', 'bbob_f016_i01_d10', 'bbob_f016_i02_d10', 'bbob_f016_i03_d10', 'bbob_f016_i04_d10', 'bbob_f016_i05_d10', 'bbob_f016_i71_d10', 'bbob_f016_i72_d10', 'bbob_f016_i73_d10', 'bbob_f016_i74_d10', 'bbob_f016_i75_d10', 'bbob_f016_i76_d10', 'bbob_f016_i77_d10', 'bbob_f016_i78_d10', 'bbob_f016_i79_d10', 'bbob_f016_i80_d10', 'bbob_f017_i01_d10', 'bbob_f017_i02_d10', 'bbob_f017_i03_d10', 'bbob_f017_i04_d10', 'bbob_f017_i05_d10', 'bbob_f017_i71_d10', 'bbob_f017_i72_d10', 'bbob_f017_i73_d10', 'bbob_f017_i74_d10', 'bbob_f017_i75_d10', 'bbob_f017_i76_d10', 'bbob_f017_i77_d10', 'bbob_f017_i78_d10', 'bbob_f017_i79_d10', 'bbob_f017_i80_d10', 'bbob_f018_i01_d10', 'bbob_f018_i02_d10', 'bbob_f018_i03_d10', 'bbob_f018_i04_d10', 'bbob_f018_i05_d10', 'bbob_f018_i71_d10', 'bbob_f018_i72_d10', 'bbob_f018_i73_d10', 'bbob_f018_i74_d10', 'bbob_f018_i75_d10', 'bbob_f018_i76_d10', 'bbob_f018_i77_d10', 'bbob_f018_i78_d10', 'bbob_f018_i79_d10', 'bbob_f018_i80_d10', 'bbob_f019_i01_d10', 'bbob_f019_i02_d10', 'bbob_f019_i03_d10', 'bbob_f019_i04_d10', 'bbob_f019_i05_d10', 'bbob_f019_i71_d10', 'bbob_f019_i72_d10', 'bbob_f019_i73_d10', 'bbob_f019_i74_d10', 'bbob_f019_i75_d10', 'bbob_f019_i76_d10', 'bbob_f019_i77_d10', 'bbob_f019_i78_d10', 'bbob_f019_i79_d10', 'bbob_f019_i80_d10', 'bbob_f020_i01_d10', 'bbob_f020_i02_d10', 'bbob_f020_i03_d10', 'bbob_f020_i04_d10', 'bbob_f020_i05_d10', 'bbob_f020_i71_d10', 'bbob_f020_i72_d10', 'bbob_f020_i73_d10', 'bbob_f020_i74_d10', 'bbob_f020_i75_d10', 'bbob_f020_i76_d10', 'bbob_f020_i77_d10', 'bbob_f020_i78_d10', 'bbob_f020_i79_d10', 'bbob_f020_i80_d10', 'bbob_f021_i01_d10', 'bbob_f021_i02_d10', 'bbob_f021_i03_d10', 'bbob_f021_i04_d10', 'bbob_f021_i05_d10', 'bbob_f021_i71_d10', 'bbob_f021_i72_d10', 'bbob_f021_i73_d10', 'bbob_f021_i74_d10', 'bbob_f021_i75_d10', 'bbob_f021_i76_d10', 'bbob_f021_i77_d10', 'bbob_f021_i78_d10', 'bbob_f021_i79_d10', 'bbob_f021_i80_d10', 'bbob_f022_i01_d10', 'bbob_f022_i02_d10', 'bbob_f022_i03_d10', 'bbob_f022_i04_d10', 'bbob_f022_i05_d10', 'bbob_f022_i71_d10', 'bbob_f022_i72_d10', 'bbob_f022_i73_d10', 'bbob_f022_i74_d10', 'bbob_f022_i75_d10', 'bbob_f022_i76_d10', 'bbob_f022_i77_d10', 'bbob_f022_i78_d10', 'bbob_f022_i79_d10', 'bbob_f022_i80_d10', 'bbob_f023_i01_d10', 'bbob_f023_i02_d10', 'bbob_f023_i03_d10', 'bbob_f023_i04_d10', 'bbob_f023_i05_d10', 'bbob_f023_i71_d10', 'bbob_f023_i72_d10', 'bbob_f023_i73_d10', 'bbob_f023_i74_d10', 'bbob_f023_i75_d10', 'bbob_f023_i76_d10', 'bbob_f023_i77_d10', 'bbob_f023_i78_d10', 'bbob_f023_i79_d10', 'bbob_f023_i80_d10', 'bbob_f024_i01_d10', 'bbob_f024_i02_d10', 'bbob_f024_i03_d10', 'bbob_f024_i04_d10', 'bbob_f024_i05_d10', 'bbob_f024_i71_d10', 'bbob_f024_i72_d10', 'bbob_f024_i73_d10', 'bbob_f024_i74_d10', 'bbob_f024_i75_d10', 'bbob_f024_i76_d10', 'bbob_f024_i77_d10', 'bbob_f024_i78_d10', 'bbob_f024_i79_d10', 'bbob_f024_i80_d10']\n"
     ]
    }
   ],
   "source": [
    "print(data.files) "
   ]
  },
  {
   "cell_type": "code",
   "execution_count": 44,
   "id": "3cd1a25c",
   "metadata": {},
   "outputs": [
    {
     "name": "stdout",
     "output_type": "stream",
     "text": [
      "Najlepsze f(x) na F1: -247.10998932595655\n"
     ]
    }
   ],
   "source": [
    "best_f_f001 = data[\"bbob_f001_i03_d10\"]\n",
    "print(f\"Najlepsze f(x) na F1: {best_f_f001}\")"
   ]
  },
  {
   "cell_type": "code",
   "execution_count": 35,
   "id": "3181e1ba",
   "metadata": {},
   "outputs": [],
   "source": [
    "data = None"
   ]
  },
  {
   "cell_type": "code",
   "execution_count": 3,
   "id": "3dd5cdae",
   "metadata": {},
   "outputs": [],
   "source": [
    "def load_all_results(npz_folder: str = \"npz\") -> pd.DataFrame:\n",
    "    records = []\n",
    "    for file in Path(npz_folder).glob(\"*.npz\"):\n",
    "        match = re.match(r\"(ipop|cma|ipop_20|ipop_35)_bbob_d(\\d+)_seed(\\d+)\\.npz\", file.name)\n",
    "        if not match:\n",
    "            continue\n",
    "        alg, dim, seed = match.group(1), int(match.group(2)), int(match.group(3))\n",
    "\n",
    "        npz = np.load(file)\n",
    "        for func_id in npz.files:\n",
    "            best_f = float(npz[func_id])\n",
    "            records.append({\n",
    "                \"alg\": alg,\n",
    "                \"dim\": dim,\n",
    "                \"seed\": seed,\n",
    "                \"func_id\": func_id,\n",
    "                \"best_f\": best_f\n",
    "            })\n",
    "\n",
    "    df = pd.DataFrame(records)\n",
    "    return df"
   ]
  },
  {
   "cell_type": "code",
   "execution_count": 7,
   "id": "6430df05",
   "metadata": {},
   "outputs": [],
   "source": [
    "df_results = load_all_results(\"npz\")"
   ]
  },
  {
   "cell_type": "code",
   "execution_count": 8,
   "id": "49cf7822",
   "metadata": {},
   "outputs": [],
   "source": [
    "df_wide = df_results.pivot_table(\n",
    "    index=[\"dim\", \"seed\", \"func_id\"],\n",
    "    columns=\"alg\",\n",
    "    values=\"best_f\"\n",
    ").reset_index()"
   ]
  },
  {
   "cell_type": "code",
   "execution_count": 9,
   "id": "e194dfe7",
   "metadata": {},
   "outputs": [],
   "source": [
    "df_wide[\"who_better\"] = np.where(\n",
    "    df_wide[\"ipop\"] < df_wide[\"cma\"], \"ipop\",\n",
    "    np.where(df_wide[\"ipop\"] > df_wide[\"cma\"], \"cma\", \"equal\")\n",
    ")"
   ]
  },
  {
   "cell_type": "code",
   "execution_count": 58,
   "id": "98a31469",
   "metadata": {},
   "outputs": [
    {
     "data": {
      "text/html": [
       "<div>\n",
       "<style scoped>\n",
       "    .dataframe tbody tr th:only-of-type {\n",
       "        vertical-align: middle;\n",
       "    }\n",
       "\n",
       "    .dataframe tbody tr th {\n",
       "        vertical-align: top;\n",
       "    }\n",
       "\n",
       "    .dataframe thead th {\n",
       "        text-align: right;\n",
       "    }\n",
       "</style>\n",
       "<table border=\"1\" class=\"dataframe\">\n",
       "  <thead>\n",
       "    <tr style=\"text-align: right;\">\n",
       "      <th>alg</th>\n",
       "      <th>dim</th>\n",
       "      <th>seed</th>\n",
       "      <th>func_id</th>\n",
       "      <th>cma</th>\n",
       "      <th>ipop</th>\n",
       "      <th>who_better</th>\n",
       "    </tr>\n",
       "  </thead>\n",
       "  <tbody>\n",
       "    <tr>\n",
       "      <th>0</th>\n",
       "      <td>5</td>\n",
       "      <td>0</td>\n",
       "      <td>bbob_f001_i01_d05</td>\n",
       "      <td>79.480000</td>\n",
       "      <td>79.480000</td>\n",
       "      <td>ipop</td>\n",
       "    </tr>\n",
       "    <tr>\n",
       "      <th>1</th>\n",
       "      <td>5</td>\n",
       "      <td>0</td>\n",
       "      <td>bbob_f001_i02_d05</td>\n",
       "      <td>394.480045</td>\n",
       "      <td>394.480000</td>\n",
       "      <td>ipop</td>\n",
       "    </tr>\n",
       "    <tr>\n",
       "      <th>2</th>\n",
       "      <td>5</td>\n",
       "      <td>0</td>\n",
       "      <td>bbob_f001_i03_d05</td>\n",
       "      <td>-247.109996</td>\n",
       "      <td>-247.110000</td>\n",
       "      <td>ipop</td>\n",
       "    </tr>\n",
       "    <tr>\n",
       "      <th>3</th>\n",
       "      <td>5</td>\n",
       "      <td>0</td>\n",
       "      <td>bbob_f001_i04_d05</td>\n",
       "      <td>-152.039997</td>\n",
       "      <td>-152.040000</td>\n",
       "      <td>ipop</td>\n",
       "    </tr>\n",
       "    <tr>\n",
       "      <th>4</th>\n",
       "      <td>5</td>\n",
       "      <td>0</td>\n",
       "      <td>bbob_f001_i05_d05</td>\n",
       "      <td>-25.249990</td>\n",
       "      <td>-25.249995</td>\n",
       "      <td>ipop</td>\n",
       "    </tr>\n",
       "  </tbody>\n",
       "</table>\n",
       "</div>"
      ],
      "text/plain": [
       "alg  dim  seed            func_id         cma        ipop who_better\n",
       "0      5     0  bbob_f001_i01_d05   79.480000   79.480000       ipop\n",
       "1      5     0  bbob_f001_i02_d05  394.480045  394.480000       ipop\n",
       "2      5     0  bbob_f001_i03_d05 -247.109996 -247.110000       ipop\n",
       "3      5     0  bbob_f001_i04_d05 -152.039997 -152.040000       ipop\n",
       "4      5     0  bbob_f001_i05_d05  -25.249990  -25.249995       ipop"
      ]
     },
     "execution_count": 58,
     "metadata": {},
     "output_type": "execute_result"
    }
   ],
   "source": [
    "df_wide.head()"
   ]
  },
  {
   "cell_type": "code",
   "execution_count": 60,
   "id": "038b27fe",
   "metadata": {},
   "outputs": [],
   "source": [
    "counts = (\n",
    "    df_wide.groupby([\"dim\", \"who_better\"])\n",
    "    .size()\n",
    "    .reset_index(name=\"count\")\n",
    ")"
   ]
  },
  {
   "cell_type": "code",
   "execution_count": null,
   "id": "f2716447",
   "metadata": {},
   "outputs": [
    {
     "data": {
      "text/html": [
       "<div>\n",
       "<style scoped>\n",
       "    .dataframe tbody tr th:only-of-type {\n",
       "        vertical-align: middle;\n",
       "    }\n",
       "\n",
       "    .dataframe tbody tr th {\n",
       "        vertical-align: top;\n",
       "    }\n",
       "\n",
       "    .dataframe thead th {\n",
       "        text-align: right;\n",
       "    }\n",
       "</style>\n",
       "<table border=\"1\" class=\"dataframe\">\n",
       "  <thead>\n",
       "    <tr style=\"text-align: right;\">\n",
       "      <th></th>\n",
       "      <th>dim</th>\n",
       "      <th>who_better</th>\n",
       "      <th>count</th>\n",
       "    </tr>\n",
       "  </thead>\n",
       "  <tbody>\n",
       "    <tr>\n",
       "      <th>0</th>\n",
       "      <td>5</td>\n",
       "      <td>cma</td>\n",
       "      <td>2284</td>\n",
       "    </tr>\n",
       "    <tr>\n",
       "      <th>1</th>\n",
       "      <td>5</td>\n",
       "      <td>equal</td>\n",
       "      <td>153</td>\n",
       "    </tr>\n",
       "    <tr>\n",
       "      <th>2</th>\n",
       "      <td>5</td>\n",
       "      <td>ipop</td>\n",
       "      <td>1163</td>\n",
       "    </tr>\n",
       "    <tr>\n",
       "      <th>3</th>\n",
       "      <td>10</td>\n",
       "      <td>cma</td>\n",
       "      <td>1790</td>\n",
       "    </tr>\n",
       "    <tr>\n",
       "      <th>4</th>\n",
       "      <td>10</td>\n",
       "      <td>equal</td>\n",
       "      <td>150</td>\n",
       "    </tr>\n",
       "  </tbody>\n",
       "</table>\n",
       "</div>"
      ],
      "text/plain": [
       "   dim who_better  count\n",
       "0    5        cma   2284\n",
       "1    5      equal    153\n",
       "2    5       ipop   1163\n",
       "3   10        cma   1790\n",
       "4   10      equal    150"
      ]
     },
     "execution_count": 61,
     "metadata": {},
     "output_type": "execute_result"
    }
   ],
   "source": []
  },
  {
   "cell_type": "code",
   "execution_count": null,
   "id": "74c84757",
   "metadata": {},
   "outputs": [],
   "source": []
  },
  {
   "cell_type": "code",
   "execution_count": 66,
   "id": "eb9ba937",
   "metadata": {},
   "outputs": [
    {
     "data": {
      "image/png": "[encoded data removed]",
      "text/plain": [
       "<Figure size 800x500 with 1 Axes>"
      ]
     },
     "metadata": {},
     "output_type": "display_data"
    }
   ],
   "source": [
    "plt.figure(figsize=(8,5))\n",
    "sns.barplot(data=counts, x=\"dim\", y=\"count\", hue=\"who_better\")\n",
    "plt.title(\"Liczba zwycięstw IPOP vs CMA w zależności od wymiaru\")\n",
    "plt.ylabel(\"Liczba instancji z lepszym wynikiem\")\n",
    "plt.xlabel(\"Wymiar (dim)\")\n",
    "plt.legend(title=\"Lepszy algorytm\")\n",
    "plt.tight_layout()\n",
    "plt.show()"
   ]
  },
  {
   "cell_type": "code",
   "execution_count": 10,
   "id": "18d99f87",
   "metadata": {},
   "outputs": [],
   "source": [
    "def plot_better_vs_cma(df: pd.DataFrame, ipop_var: str, save=False):\n",
    "    pair = df.dropna(subset=[ipop_var, \"cma\"]).copy()\n",
    "\n",
    "    pair[\"who_better\"] = np.where(\n",
    "        pair[ipop_var] < pair[\"cma\"], ipop_var,\n",
    "        np.where(pair[ipop_var] > pair[\"cma\"], \"cma\", \"equal\")\n",
    "    )\n",
    "\n",
    "    counts = (\n",
    "        pair.groupby([\"dim\", \"who_better\"])\n",
    "        .size()\n",
    "        .reset_index(name=\"count\")\n",
    "    )\n",
    "\n",
    "    plt.figure(figsize=(6, 4))\n",
    "    sns.barplot(data=counts, x=\"dim\", y=\"count\", hue=\"who_better\",\n",
    "                hue_order=[ipop_var, \"cma\", \"equal\"])\n",
    "    plt.title(f\"Wygrane — {ipop_var} vs CMA\")\n",
    "    plt.ylabel(\"Liczba instancji z lepszym wynikiem\")\n",
    "    plt.xlabel(\"Wymiar (dim)\")\n",
    "    plt.legend(title=\"Lepszy algorytm\", bbox_to_anchor=(1.05, 1), loc='upper left')\n",
    "    plt.tight_layout()\n",
    "\n",
    "    if save:\n",
    "        plt.savefig(f\"wins_{ipop_var}_vs_cma.png\", dpi=300)\n",
    "    plt.show()\n",
    "\n"
   ]
  },
  {
   "cell_type": "code",
   "execution_count": 11,
   "id": "aff3750f",
   "metadata": {},
   "outputs": [
    {
     "data": {
      "image/png": "[encoded data removed]",
      "text/plain": [
       "<Figure size 600x400 with 1 Axes>"
      ]
     },
     "metadata": {},
     "output_type": "display_data"
    },
    {
     "data": {
      "image/png": "[encoded data removed]",
      "text/plain": [
       "<Figure size 600x400 with 1 Axes>"
      ]
     },
     "metadata": {},
     "output_type": "display_data"
    },
    {
     "data": {
      "image/png": "[encoded data removed]",
      "text/plain": [
       "<Figure size 600x400 with 1 Axes>"
      ]
     },
     "metadata": {},
     "output_type": "display_data"
    }
   ],
   "source": [
    "\n",
    "for variant in [\"ipop\", \"ipop_20\", \"ipop_35\"]:\n",
    "    if variant in df_wide.columns:\n",
    "        plot_better_vs_cma(df_wide, variant, save=False)\n",
    "    else:\n",
    "        print(f\"[WARN] Brak danych dla {variant}\")"
   ]
  },
  {
   "cell_type": "code",
   "execution_count": 13,
   "id": "9502e533",
   "metadata": {},
   "outputs": [],
   "source": [
    "def plot_pairwise_wins(df, alg_a, alg_b, save=False):\n",
    "    \"\"\"Rysuje słupki 'kto lepszy' dla pary algorytmów w różnych wymiarach.\"\"\"\n",
    "    if alg_a not in df.columns or alg_b not in df.columns:\n",
    "        print(f\"[WARN] Brak danych dla pary {alg_a} / {alg_b}\")\n",
    "        return\n",
    "\n",
    "    pair = df.dropna(subset=[alg_a, alg_b]).copy()\n",
    "    pair[\"who_better\"] = np.where(\n",
    "        pair[alg_a] < pair[alg_b], alg_a,\n",
    "        np.where(pair[alg_a] > pair[alg_b], alg_b, \"equal\")\n",
    "    )\n",
    "\n",
    "    counts = (\n",
    "        pair.groupby([\"dim\", \"who_better\"])\n",
    "            .size()\n",
    "            .reset_index(name=\"count\")\n",
    "    )\n",
    "\n",
    "    plt.figure(figsize=(6, 4))\n",
    "    sns.barplot(data=counts, x=\"dim\", y=\"count\",\n",
    "                hue=\"who_better\",\n",
    "                hue_order=[alg_a, alg_b, \"equal\"])\n",
    "    plt.title(f\"Wygrane – {alg_a} vs {alg_b}\")\n",
    "    plt.ylabel(\"Liczba instancji z lepszym wynikiem\")\n",
    "    plt.xlabel(\"Wymiar (dim)\")\n",
    "    plt.legend(title=\"Lepszy algorytm\", bbox_to_anchor=(1.05, 1), loc='upper left')\n",
    "    plt.tight_layout()\n",
    "\n",
    "    if save:\n",
    "        plt.savefig(f\"wins_{alg_a}_vs_{alg_b}.png\", dpi=300)\n",
    "    plt.show()"
   ]
  },
  {
   "cell_type": "code",
   "execution_count": 14,
   "id": "53409dd4",
   "metadata": {},
   "outputs": [
    {
     "data": {
      "image/png": "[encoded data removed]",
      "text/plain": [
       "<Figure size 600x400 with 1 Axes>"
      ]
     },
     "metadata": {},
     "output_type": "display_data"
    },
    {
     "data": {
      "image/png": "[encoded data removed]",
      "text/plain": [
       "<Figure size 600x400 with 1 Axes>"
      ]
     },
     "metadata": {},
     "output_type": "display_data"
    },
    {
     "data": {
      "image/png": "[encoded data removed]",
      "text/plain": [
       "<Figure size 600x400 with 1 Axes>"
      ]
     },
     "metadata": {},
     "output_type": "display_data"
    }
   ],
   "source": [
    "pairs = [(\"ipop\", \"ipop_20\"),\n",
    "         (\"ipop\", \"ipop_35\"),\n",
    "         (\"ipop_20\", \"ipop_35\")]\n",
    "\n",
    "for a, b in pairs:\n",
    "    plot_pairwise_wins(df_wide, a, b, save=False)"
   ]
  },
  {
   "cell_type": "code",
   "execution_count": 15,
   "id": "c77073e4",
   "metadata": {},
   "outputs": [],
   "source": [
    "grouped_std = (\n",
    "    df_results\n",
    "    .groupby([\"alg\", \"dim\", \"func_id\"])[\"best_f\"]\n",
    "    .std()\n",
    "    .reset_index(name=\"std_dev_per_func\")\n",
    ")"
   ]
  },
  {
   "cell_type": "code",
   "execution_count": 16,
   "id": "358611ee",
   "metadata": {},
   "outputs": [],
   "source": [
    "summary_std = (\n",
    "    grouped_std\n",
    "    .groupby([\"alg\", \"dim\"])[\"std_dev_per_func\"]\n",
    "    .mean()\n",
    "    .reset_index(name=\"avg_std_dev\")\n",
    ")\n"
   ]
  },
  {
   "cell_type": "code",
   "execution_count": 69,
   "id": "7685ce23",
   "metadata": {},
   "outputs": [
    {
     "data": {
      "text/html": [
       "<div>\n",
       "<style scoped>\n",
       "    .dataframe tbody tr th:only-of-type {\n",
       "        vertical-align: middle;\n",
       "    }\n",
       "\n",
       "    .dataframe tbody tr th {\n",
       "        vertical-align: top;\n",
       "    }\n",
       "\n",
       "    .dataframe thead th {\n",
       "        text-align: right;\n",
       "    }\n",
       "</style>\n",
       "<table border=\"1\" class=\"dataframe\">\n",
       "  <thead>\n",
       "    <tr style=\"text-align: right;\">\n",
       "      <th></th>\n",
       "      <th>alg</th>\n",
       "      <th>dim</th>\n",
       "      <th>avg_std_dev</th>\n",
       "    </tr>\n",
       "  </thead>\n",
       "  <tbody>\n",
       "    <tr>\n",
       "      <th>0</th>\n",
       "      <td>cma</td>\n",
       "      <td>5</td>\n",
       "      <td>16.108271</td>\n",
       "    </tr>\n",
       "    <tr>\n",
       "      <th>1</th>\n",
       "      <td>cma</td>\n",
       "      <td>10</td>\n",
       "      <td>71.580548</td>\n",
       "    </tr>\n",
       "    <tr>\n",
       "      <th>2</th>\n",
       "      <td>cma</td>\n",
       "      <td>20</td>\n",
       "      <td>267.169832</td>\n",
       "    </tr>\n",
       "    <tr>\n",
       "      <th>3</th>\n",
       "      <td>ipop</td>\n",
       "      <td>5</td>\n",
       "      <td>312.703083</td>\n",
       "    </tr>\n",
       "    <tr>\n",
       "      <th>4</th>\n",
       "      <td>ipop</td>\n",
       "      <td>10</td>\n",
       "      <td>386.174076</td>\n",
       "    </tr>\n",
       "  </tbody>\n",
       "</table>\n",
       "</div>"
      ],
      "text/plain": [
       "    alg  dim  avg_std_dev\n",
       "0   cma    5    16.108271\n",
       "1   cma   10    71.580548\n",
       "2   cma   20   267.169832\n",
       "3  ipop    5   312.703083\n",
       "4  ipop   10   386.174076"
      ]
     },
     "execution_count": 69,
     "metadata": {},
     "output_type": "execute_result"
    }
   ],
   "source": [
    "summary_std.head()"
   ]
  },
  {
   "cell_type": "code",
   "execution_count": 21,
   "id": "97816b8f",
   "metadata": {},
   "outputs": [
    {
     "data": {
      "image/png": "[encoded data removed]",
      "text/plain": [
       "<Figure size 600x400 with 1 Axes>"
      ]
     },
     "metadata": {},
     "output_type": "display_data"
    }
   ],
   "source": [
    "plt.figure(figsize=(6,4))\n",
    "sns.barplot(data=summary_std, x=\"dim\", y=\"avg_std_dev\", hue=\"alg\", hue_order=[\"cma\", \"ipop_20\", \"ipop_35\", \"ipop\"]\n",
    ")\n",
    "plt.ylabel(\"Średnie odchylenie standardowe Δf\")\n",
    "plt.xlabel(\"Wymiar (dim)\")\n",
    "plt.title(\"Stabilność algorytmów\")\n",
    "plt.legend(title=\"Wariant algorytmu\") \n",
    "plt.tight_layout()\n",
    "plt.show()"
   ]
  },
  {
   "cell_type": "code",
   "execution_count": 75,
   "id": "5eb3e0b4",
   "metadata": {},
   "outputs": [
    {
     "name": "stderr",
     "output_type": "stream",
     "text": [
      "c:\\Users\\kacpe\\OneDrive\\Pulpit\\Uczelnia\\Magisterskie\\Ewolucyjne\\.venv\\Lib\\site-packages\\pandas\\core\\arraylike.py:399: RuntimeWarning: invalid value encountered in log10\n",
      "  result = getattr(ufunc, method)(*inputs, **kwargs)\n"
     ]
    },
    {
     "data": {
      "text/html": [
       "<div>\n",
       "<style scoped>\n",
       "    .dataframe tbody tr th:only-of-type {\n",
       "        vertical-align: middle;\n",
       "    }\n",
       "\n",
       "    .dataframe tbody tr th {\n",
       "        vertical-align: top;\n",
       "    }\n",
       "\n",
       "    .dataframe thead th {\n",
       "        text-align: right;\n",
       "    }\n",
       "</style>\n",
       "<table border=\"1\" class=\"dataframe\">\n",
       "  <thead>\n",
       "    <tr style=\"text-align: right;\">\n",
       "      <th>alg</th>\n",
       "      <th>func_id</th>\n",
       "      <th>cma</th>\n",
       "      <th>ipop</th>\n",
       "      <th>better</th>\n",
       "      <th>abs_diff</th>\n",
       "      <th>log10_ratio</th>\n",
       "    </tr>\n",
       "  </thead>\n",
       "  <tbody>\n",
       "    <tr>\n",
       "      <th>0</th>\n",
       "      <td>bbob_f001_i01_d05</td>\n",
       "      <td>79.480004</td>\n",
       "      <td>79.480001</td>\n",
       "      <td>ipop</td>\n",
       "      <td>0.000003</td>\n",
       "      <td>1.747166e-08</td>\n",
       "    </tr>\n",
       "    <tr>\n",
       "      <th>1</th>\n",
       "      <td>bbob_f001_i01_d10</td>\n",
       "      <td>79.480012</td>\n",
       "      <td>79.480000</td>\n",
       "      <td>ipop</td>\n",
       "      <td>0.000012</td>\n",
       "      <td>6.667649e-08</td>\n",
       "    </tr>\n",
       "    <tr>\n",
       "      <th>2</th>\n",
       "      <td>bbob_f001_i01_d20</td>\n",
       "      <td>79.480010</td>\n",
       "      <td>79.480000</td>\n",
       "      <td>ipop</td>\n",
       "      <td>0.000010</td>\n",
       "      <td>5.348719e-08</td>\n",
       "    </tr>\n",
       "    <tr>\n",
       "      <th>3</th>\n",
       "      <td>bbob_f001_i02_d05</td>\n",
       "      <td>394.480021</td>\n",
       "      <td>394.480004</td>\n",
       "      <td>ipop</td>\n",
       "      <td>0.000017</td>\n",
       "      <td>1.882335e-08</td>\n",
       "    </tr>\n",
       "    <tr>\n",
       "      <th>4</th>\n",
       "      <td>bbob_f001_i02_d10</td>\n",
       "      <td>394.480051</td>\n",
       "      <td>394.480000</td>\n",
       "      <td>ipop</td>\n",
       "      <td>0.000051</td>\n",
       "      <td>5.662778e-08</td>\n",
       "    </tr>\n",
       "    <tr>\n",
       "      <th>...</th>\n",
       "      <td>...</td>\n",
       "      <td>...</td>\n",
       "      <td>...</td>\n",
       "      <td>...</td>\n",
       "      <td>...</td>\n",
       "      <td>...</td>\n",
       "    </tr>\n",
       "    <tr>\n",
       "      <th>1075</th>\n",
       "      <td>bbob_f024_i79_d10</td>\n",
       "      <td>-942.004995</td>\n",
       "      <td>-962.628165</td>\n",
       "      <td>ipop</td>\n",
       "      <td>20.623170</td>\n",
       "      <td>-9.405358e-03</td>\n",
       "    </tr>\n",
       "    <tr>\n",
       "      <th>1076</th>\n",
       "      <td>bbob_f024_i79_d20</td>\n",
       "      <td>-860.730254</td>\n",
       "      <td>-882.870586</td>\n",
       "      <td>ipop</td>\n",
       "      <td>22.140331</td>\n",
       "      <td>-1.102998e-02</td>\n",
       "    </tr>\n",
       "    <tr>\n",
       "      <th>1077</th>\n",
       "      <td>bbob_f024_i80_d05</td>\n",
       "      <td>64.596076</td>\n",
       "      <td>66.608375</td>\n",
       "      <td>cma</td>\n",
       "      <td>2.012299</td>\n",
       "      <td>-1.332270e-02</td>\n",
       "    </tr>\n",
       "    <tr>\n",
       "      <th>1078</th>\n",
       "      <td>bbob_f024_i80_d10</td>\n",
       "      <td>105.803971</td>\n",
       "      <td>86.331102</td>\n",
       "      <td>ipop</td>\n",
       "      <td>19.472869</td>\n",
       "      <td>8.833468e-02</td>\n",
       "    </tr>\n",
       "    <tr>\n",
       "      <th>1079</th>\n",
       "      <td>bbob_f024_i80_d20</td>\n",
       "      <td>197.725756</td>\n",
       "      <td>150.731370</td>\n",
       "      <td>ipop</td>\n",
       "      <td>46.994386</td>\n",
       "      <td>1.178596e-01</td>\n",
       "    </tr>\n",
       "  </tbody>\n",
       "</table>\n",
       "<p>1080 rows × 6 columns</p>\n",
       "</div>"
      ],
      "text/plain": [
       "alg             func_id         cma        ipop better   abs_diff  \\\n",
       "0     bbob_f001_i01_d05   79.480004   79.480001   ipop   0.000003   \n",
       "1     bbob_f001_i01_d10   79.480012   79.480000   ipop   0.000012   \n",
       "2     bbob_f001_i01_d20   79.480010   79.480000   ipop   0.000010   \n",
       "3     bbob_f001_i02_d05  394.480021  394.480004   ipop   0.000017   \n",
       "4     bbob_f001_i02_d10  394.480051  394.480000   ipop   0.000051   \n",
       "...                 ...         ...         ...    ...        ...   \n",
       "1075  bbob_f024_i79_d10 -942.004995 -962.628165   ipop  20.623170   \n",
       "1076  bbob_f024_i79_d20 -860.730254 -882.870586   ipop  22.140331   \n",
       "1077  bbob_f024_i80_d05   64.596076   66.608375    cma   2.012299   \n",
       "1078  bbob_f024_i80_d10  105.803971   86.331102   ipop  19.472869   \n",
       "1079  bbob_f024_i80_d20  197.725756  150.731370   ipop  46.994386   \n",
       "\n",
       "alg    log10_ratio  \n",
       "0     1.747166e-08  \n",
       "1     6.667649e-08  \n",
       "2     5.348719e-08  \n",
       "3     1.882335e-08  \n",
       "4     5.662778e-08  \n",
       "...            ...  \n",
       "1075 -9.405358e-03  \n",
       "1076 -1.102998e-02  \n",
       "1077 -1.332270e-02  \n",
       "1078  8.833468e-02  \n",
       "1079  1.178596e-01  \n",
       "\n",
       "[1080 rows x 6 columns]"
      ]
     },
     "metadata": {},
     "output_type": "display_data"
    }
   ],
   "source": [
    "# 1. Grupujemy średnie dla każdej funkcji i algorytmu\n",
    "mean_per_func = (\n",
    "    df_results\n",
    "    .groupby([\"func_id\", \"alg\"])[\"best_f\"]\n",
    "    .mean()\n",
    "    .reset_index()\n",
    "    .pivot(index=\"func_id\", columns=\"alg\", values=\"best_f\")\n",
    "    .reset_index()\n",
    ")\n",
    "\n",
    "# 2. Obliczamy kto lepszy i różnicę\n",
    "mean_per_func[\"better\"] = np.where(\n",
    "    mean_per_func[\"ipop\"] < mean_per_func[\"cma\"], \"ipop\",\n",
    "    np.where(mean_per_func[\"ipop\"] > mean_per_func[\"cma\"], \"cma\", \"equal\")\n",
    ")\n",
    "\n",
    "mean_per_func[\"abs_diff\"] = (mean_per_func[\"cma\"] - mean_per_func[\"ipop\"]).abs()\n",
    "mean_per_func[\"log10_ratio\"] = np.log10(mean_per_func[\"cma\"] / mean_per_func[\"ipop\"])\n",
    "\n",
    "# 3. Podgląd wyników\n",
    "mean_per_func_sorted = mean_per_func.sort_values(\"func_id\")\n",
    "display(mean_per_func_sorted)"
   ]
  },
  {
   "cell_type": "code",
   "execution_count": 76,
   "id": "ac74adc1",
   "metadata": {},
   "outputs": [
    {
     "data": {
      "text/plain": [
       "better\n",
       "cma      648\n",
       "ipop     387\n",
       "equal     45\n",
       "Name: count, dtype: int64"
      ]
     },
     "execution_count": 76,
     "metadata": {},
     "output_type": "execute_result"
    }
   ],
   "source": [
    "mean_per_func[\"better\"].value_counts()"
   ]
  },
  {
   "cell_type": "code",
   "execution_count": 78,
   "id": "4a6221fb",
   "metadata": {},
   "outputs": [],
   "source": [
    "# Lista unikalnych funkcji\n",
    "funcs = df_wide[\"func_id\"].unique()\n",
    "funcs.sort()"
   ]
  },
  {
   "cell_type": "code",
   "execution_count": null,
   "id": "4370e71c",
   "metadata": {},
   "outputs": [],
   "source": [
    "# Tworzymy 24 osobne wykresy\n",
    "ncols = 4\n",
    "nrows = int(np.ceil(len(funcs) / ncols))\n",
    "\n",
    "fig, axes = plt.subplots(nrows=nrows, ncols=ncols, figsize=(4 * ncols, 4 * nrows), sharey=True)\n",
    "\n",
    "for i, func in enumerate(funcs):\n",
    "    ax = axes[i // ncols, i % ncols]\n",
    "    subset = df_wide[df_wide[\"func_id\"] == func]\n",
    "    counts = (\n",
    "        subset.groupby([\"dim\", \"who_better\"])\n",
    "        .size()\n",
    "        .reset_index(name=\"count\")\n",
    "    )\n",
    "    sns.barplot(data=counts, x=\"dim\", y=\"count\", hue=\"who_better\", ax=ax)\n",
    "    ax.set_title(func.replace(\"bbob_\", \"\"))\n",
    "    ax.set_xlabel(\"dim\")\n",
    "    ax.set_ylabel(\"Liczba wygranych\")\n",
    "    ax.legend().set_title(\"lepszy alg.\")\n",
    "\n",
    "# Usunięcie pustych subplots\n",
    "for j in range(i+1, ncols*nrows):\n",
    "    fig.delaxes(axes[j // ncols, j % ncols])\n",
    "\n",
    "plt.suptitle(\"Porównanie IPOP vs CMA dla każdej funkcji benchmarkowej\", fontsize=16)\n",
    "plt.tight_layout(rect=[0, 0, 1, 0.96])\n",
    "plt.show()"
   ]
  },
  {
   "cell_type": "markdown",
   "id": "e87825bc",
   "metadata": {},
   "source": [
    "## Pobieranie .dat"
   ]
  },
  {
   "cell_type": "code",
   "execution_count": null,
   "id": "8048dcf3",
   "metadata": {},
   "outputs": [],
   "source": [
    "def _last_delta_f(dat_file: Path) -> float:\n",
    "    \"\"\"Zwraca ostatnią kolumnę Δf z pliku .dat (ostatni wiersz nie-komentarz).\"\"\"\n",
    "    data = np.loadtxt(dat_file, comments='#')\n",
    "    return float(data[-1, 1]) \n",
    "\n",
    "def gather_results(root: str | Path) -> pd.DataFrame:\n",
    "    \"\"\"\n",
    "    Zwraca DataFrame z kolumnami:\n",
    "    dim, seed, alg, func_id, delta_f\n",
    "    \"\"\"\n",
    "    rows = []\n",
    "    for dim_dir in Path(root).glob('d*'):\n",
    "        dim = int(dim_dir.name.lstrip('d'))\n",
    "        for seed_dir in dim_dir.glob('seed*-000[12]'):\n",
    "            seed, run = re.match(r'seed(\\d+)-000(\\d)', seed_dir.name).groups()\n",
    "            alg = 'ipop' if run == '1' else 'cma'\n",
    "            for dat in seed_dir.glob('**/IOHprofiler_f*_*.dat'):\n",
    "                func_id = re.search(r'f(\\d{3})', dat.name).group(1)\n",
    "                rows.append(\n",
    "                    dict(dim=dim,\n",
    "                         seed=int(seed),\n",
    "                         alg=alg,\n",
    "                         func_id=f'F{func_id}',\n",
    "                         delta_f=_last_delta_f(dat))\n",
    "                )\n",
    "    return pd.DataFrame(rows)\n",
    "\n",
    "def summary_stats(df: pd.DataFrame) -> pd.DataFrame:\n",
    "    \"\"\"Średnia i odchylenie std Δf dla każdej kombinacji (alg, dim).\"\"\"\n",
    "    return (df.groupby(['alg', 'dim'])['delta_f']\n",
    "              .agg(['mean', 'std', 'median'])\n",
    "              .reset_index())"
   ]
  },
  {
   "cell_type": "code",
   "execution_count": 17,
   "id": "8cd14a27",
   "metadata": {},
   "outputs": [
    {
     "name": "stderr",
     "output_type": "stream",
     "text": [
      "C:\\Users\\kacpe\\AppData\\Local\\Temp\\ipykernel_17380\\671224370.py:1: FutureWarning: The 'delim_whitespace' keyword in pd.read_csv is deprecated and will be removed in a future version. Use ``sep='\\s+'`` instead\n",
      "  df = pd.read_csv(\"exdata/bbob_results/d5/seed0-0001/data_f1/bbobexp_f1_DIM5.dat\",\n"
     ]
    }
   ],
   "source": [
    "df = pd.read_csv(\"exdata/bbob_results/d5/seed0-0001/data_f1/bbobexp_f1_DIM5.dat\", \n",
    "                delim_whitespace=True, \n",
    "                 comment='%', \n",
    "                 header=None)"
   ]
  },
  {
   "cell_type": "code",
   "execution_count": 19,
   "id": "a65fc0ba",
   "metadata": {},
   "outputs": [],
   "source": [
    "df[\"f_evals\"] = df[\"f_evals\"].astype(int)\n",
    "df[\"best_measured_f\"] = pd.to_numeric(df[\"best_measured_f\"], errors=\"coerce\")"
   ]
  },
  {
   "cell_type": "code",
   "execution_count": 20,
   "id": "b51860e0",
   "metadata": {},
   "outputs": [
    {
     "name": "stdout",
     "output_type": "stream",
     "text": [
      "Najlepszy wynik: -1000.00000 osiągnięty przy 466 ewaluacjach\n"
     ]
    }
   ],
   "source": [
    "best_idx = df[\"best_measured_f\"].idxmin()\n",
    "eval_at_best = df.loc[best_idx, \"f_evals\"]\n",
    "best_val = df.loc[best_idx, \"best_measured_f\"]\n",
    "\n",
    "print(f\"Najlepszy wynik: {best_val:.5f} osiągnięty przy {eval_at_best} ewaluacjach\")"
   ]
  },
  {
   "cell_type": "code",
   "execution_count": 18,
   "id": "615ab407",
   "metadata": {},
   "outputs": [],
   "source": [
    "df.columns = [\n",
    "    \"f_evals\", \"g_evals\", \"best_noise_free\", \n",
    "    \"measured_f\", \"best_measured_f\"\n",
    "] + [f\"x{i}\" for i in range(1, df.shape[1] - 5 + 1)]"
   ]
  },
  {
   "cell_type": "code",
   "execution_count": 10,
   "id": "03ad983f",
   "metadata": {},
   "outputs": [],
   "source": [
    "df[\"fval\"] = pd.to_numeric(df[\"fval\"], errors=\"coerce\")"
   ]
  },
  {
   "cell_type": "code",
   "execution_count": 16,
   "id": "084939e9",
   "metadata": {},
   "outputs": [
    {
     "name": "stdout",
     "output_type": "stream",
     "text": [
      "Najlepszy wynik osiągnięto przy 0.057893 ewaluacjach\n"
     ]
    }
   ],
   "source": [
    "best_idx = df[\"fval\"].idxmin()\n",
    "eval_at_best = df.loc[best_idx, \"evals\"]\n",
    "print(f\"Najlepszy wynik osiągnięto przy {eval_at_best} ewaluacjach\")"
   ]
  },
  {
   "cell_type": "code",
   "execution_count": null,
   "id": "c10949e1",
   "metadata": {},
   "outputs": [
    {
     "ename": "TypeError",
     "evalue": "'<' not supported between instances of 'float' and 'str'",
     "output_type": "error",
     "traceback": [
      "\u001b[31m---------------------------------------------------------------------------\u001b[39m",
      "\u001b[31mTypeError\u001b[39m                                 Traceback (most recent call last)",
      "\u001b[36mCell\u001b[39m\u001b[36m \u001b[39m\u001b[32mIn[5]\u001b[39m\u001b[32m, line 1\u001b[39m\n\u001b[32m----> \u001b[39m\u001b[32m1\u001b[39m best_idx = \u001b[43mdf\u001b[49m\u001b[43m[\u001b[49m\u001b[33;43m\"\u001b[39;49m\u001b[33;43mfval\u001b[39;49m\u001b[33;43m\"\u001b[39;49m\u001b[43m]\u001b[49m\u001b[43m.\u001b[49m\u001b[43midxmin\u001b[49m\u001b[43m(\u001b[49m\u001b[43m)\u001b[49m\n",
      "\u001b[36mFile \u001b[39m\u001b[32mc:\\Users\\kacpe\\OneDrive\\Pulpit\\Uczelnia\\Magisterskie\\Ewolucyjne\\.venv\\Lib\\site-packages\\pandas\\core\\series.py:2677\u001b[39m, in \u001b[36mSeries.idxmin\u001b[39m\u001b[34m(self, axis, skipna, *args, **kwargs)\u001b[39m\n\u001b[32m   2672\u001b[39m \u001b[38;5;28;01mwith\u001b[39;00m warnings.catch_warnings():\n\u001b[32m   2673\u001b[39m     \u001b[38;5;66;03m# TODO(3.0): this catching/filtering can be removed\u001b[39;00m\n\u001b[32m   2674\u001b[39m     \u001b[38;5;66;03m# ignore warning produced by argmin since we will issue a different\u001b[39;00m\n\u001b[32m   2675\u001b[39m     \u001b[38;5;66;03m#  warning for idxmin\u001b[39;00m\n\u001b[32m   2676\u001b[39m     warnings.simplefilter(\u001b[33m\"\u001b[39m\u001b[33mignore\u001b[39m\u001b[33m\"\u001b[39m)\n\u001b[32m-> \u001b[39m\u001b[32m2677\u001b[39m     i = \u001b[38;5;28;43mself\u001b[39;49m\u001b[43m.\u001b[49m\u001b[43margmin\u001b[49m\u001b[43m(\u001b[49m\u001b[43maxis\u001b[49m\u001b[43m,\u001b[49m\u001b[43m \u001b[49m\u001b[43mskipna\u001b[49m\u001b[43m,\u001b[49m\u001b[43m \u001b[49m\u001b[43m*\u001b[49m\u001b[43margs\u001b[49m\u001b[43m,\u001b[49m\u001b[43m \u001b[49m\u001b[43m*\u001b[49m\u001b[43m*\u001b[49m\u001b[43mkwargs\u001b[49m\u001b[43m)\u001b[49m\n\u001b[32m   2679\u001b[39m \u001b[38;5;28;01mif\u001b[39;00m i == -\u001b[32m1\u001b[39m:\n\u001b[32m   2680\u001b[39m     \u001b[38;5;66;03m# GH#43587 give correct NA value for Index.\u001b[39;00m\n\u001b[32m   2681\u001b[39m     warnings.warn(\n\u001b[32m   2682\u001b[39m         \u001b[33mf\u001b[39m\u001b[33m\"\u001b[39m\u001b[33mThe behavior of \u001b[39m\u001b[38;5;132;01m{\u001b[39;00m\u001b[38;5;28mtype\u001b[39m(\u001b[38;5;28mself\u001b[39m).\u001b[34m__name__\u001b[39m\u001b[38;5;132;01m}\u001b[39;00m\u001b[33m.idxmin with all-NA \u001b[39m\u001b[33m\"\u001b[39m\n\u001b[32m   2683\u001b[39m         \u001b[33m\"\u001b[39m\u001b[33mvalues, or any-NA and skipna=False, is deprecated. In a future \u001b[39m\u001b[33m\"\u001b[39m\n\u001b[32m   (...)\u001b[39m\u001b[32m   2686\u001b[39m         stacklevel=find_stack_level(),\n\u001b[32m   2687\u001b[39m     )\n",
      "\u001b[36mFile \u001b[39m\u001b[32mc:\\Users\\kacpe\\OneDrive\\Pulpit\\Uczelnia\\Magisterskie\\Ewolucyjne\\.venv\\Lib\\site-packages\\pandas\\core\\base.py:785\u001b[39m, in \u001b[36mIndexOpsMixin.argmin\u001b[39m\u001b[34m(self, axis, skipna, *args, **kwargs)\u001b[39m\n\u001b[32m    783\u001b[39m         \u001b[38;5;28;01mreturn\u001b[39;00m delegate.argmin()\n\u001b[32m    784\u001b[39m \u001b[38;5;28;01melse\u001b[39;00m:\n\u001b[32m--> \u001b[39m\u001b[32m785\u001b[39m     result = \u001b[43mnanops\u001b[49m\u001b[43m.\u001b[49m\u001b[43mnanargmin\u001b[49m\u001b[43m(\u001b[49m\u001b[43mdelegate\u001b[49m\u001b[43m,\u001b[49m\u001b[43m \u001b[49m\u001b[43mskipna\u001b[49m\u001b[43m=\u001b[49m\u001b[43mskipna\u001b[49m\u001b[43m)\u001b[49m\n\u001b[32m    786\u001b[39m     \u001b[38;5;28;01mif\u001b[39;00m result == -\u001b[32m1\u001b[39m:\n\u001b[32m    787\u001b[39m         warnings.warn(\n\u001b[32m    788\u001b[39m             \u001b[33mf\u001b[39m\u001b[33m\"\u001b[39m\u001b[33mThe behavior of \u001b[39m\u001b[38;5;132;01m{\u001b[39;00m\u001b[38;5;28mtype\u001b[39m(\u001b[38;5;28mself\u001b[39m).\u001b[34m__name__\u001b[39m\u001b[38;5;132;01m}\u001b[39;00m\u001b[33m.argmax/argmin \u001b[39m\u001b[33m\"\u001b[39m\n\u001b[32m    789\u001b[39m             \u001b[33m\"\u001b[39m\u001b[33mwith skipna=False and NAs, or with all-NAs is deprecated. \u001b[39m\u001b[33m\"\u001b[39m\n\u001b[32m   (...)\u001b[39m\u001b[32m    792\u001b[39m             stacklevel=find_stack_level(),\n\u001b[32m    793\u001b[39m         )\n",
      "\u001b[36mFile \u001b[39m\u001b[32mc:\\Users\\kacpe\\OneDrive\\Pulpit\\Uczelnia\\Magisterskie\\Ewolucyjne\\.venv\\Lib\\site-packages\\pandas\\core\\nanops.py:1194\u001b[39m, in \u001b[36mnanargmin\u001b[39m\u001b[34m(values, axis, skipna, mask)\u001b[39m\n\u001b[32m   1162\u001b[39m \u001b[38;5;250m\u001b[39m\u001b[33;03m\"\"\"\u001b[39;00m\n\u001b[32m   1163\u001b[39m \u001b[33;03mParameters\u001b[39;00m\n\u001b[32m   1164\u001b[39m \u001b[33;03m----------\u001b[39;00m\n\u001b[32m   (...)\u001b[39m\u001b[32m   1191\u001b[39m \u001b[33;03marray([0, 0, 1, 1])\u001b[39;00m\n\u001b[32m   1192\u001b[39m \u001b[33;03m\"\"\"\u001b[39;00m\n\u001b[32m   1193\u001b[39m values, mask = _get_values(values, \u001b[38;5;28;01mTrue\u001b[39;00m, fill_value_typ=\u001b[33m\"\u001b[39m\u001b[33m+inf\u001b[39m\u001b[33m\"\u001b[39m, mask=mask)\n\u001b[32m-> \u001b[39m\u001b[32m1194\u001b[39m result = \u001b[43mvalues\u001b[49m\u001b[43m.\u001b[49m\u001b[43margmin\u001b[49m\u001b[43m(\u001b[49m\u001b[43maxis\u001b[49m\u001b[43m)\u001b[49m\n\u001b[32m   1195\u001b[39m \u001b[38;5;66;03m# error: Argument 1 to \"_maybe_arg_null_out\" has incompatible type \"Any |\u001b[39;00m\n\u001b[32m   1196\u001b[39m \u001b[38;5;66;03m# signedinteger[Any]\"; expected \"ndarray[Any, Any]\"\u001b[39;00m\n\u001b[32m   1197\u001b[39m result = _maybe_arg_null_out(result, axis, mask, skipna)  \u001b[38;5;66;03m# type: ignore[arg-type]\u001b[39;00m\n",
      "\u001b[31mTypeError\u001b[39m: '<' not supported between instances of 'float' and 'str'"
     ]
    }
   ],
   "source": []
  }
 ],
 "metadata": {
  "kernelspec": {
   "display_name": ".venv",
   "language": "python",
   "name": "python3"
  },
  "language_info": {
   "codemirror_mode": {
    "name": "ipython",
    "version": 3
   },
   "file_extension": ".py",
   "mimetype": "text/x-python",
   "name": "python",
   "nbconvert_exporter": "python",
   "pygments_lexer": "ipython3",
   "version": "3.11.0"
  }
 },
 "nbformat": 4,
 "nbformat_minor": 5
}
